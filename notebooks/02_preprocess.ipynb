{
 "cells": [
  {
   "cell_type": "code",
   "execution_count": 1,
   "id": "32c11706",
   "metadata": {},
   "outputs": [],
   "source": [
    "import pandas as pd\n",
    "import numpy as np\n",
    "from pathlib import Path"
   ]
  },
  {
   "cell_type": "code",
   "execution_count": 3,
   "id": "e3ae4c42",
   "metadata": {},
   "outputs": [],
   "source": [
    "data_dir = Path(\"../data\")\n",
    "proc_dir = data_dir / \"processed\"\n",
    "proc_dir.mkdir(parents=True, exist_ok=True)"
   ]
  },
  {
   "cell_type": "code",
   "execution_count": 4,
   "id": "bbb69eee",
   "metadata": {},
   "outputs": [],
   "source": [
    "train_raw = pd.read_csv(data_dir / \"train.csv\")\n",
    "test_raw = pd.read_csv(data_dir / \"test.csv\")"
   ]
  },
  {
   "cell_type": "code",
   "execution_count": 5,
   "id": "25367e53",
   "metadata": {},
   "outputs": [],
   "source": [
    "spend_cols = [\"RoomService\", \"FoodCourt\", \"ShoppingMall\", \"Spa\", \"VRDeck\"]\n",
    "cat_cols_base = [\"HomePlanet\", \"Destination\"]\n",
    "bool_cols = [\"CryoSleep\", \"VIP\"]"
   ]
  },
  {
   "cell_type": "code",
   "execution_count": 23,
   "id": "19542f60",
   "metadata": {},
   "outputs": [],
   "source": [
    "def split_cabin(df: pd.DataFrame) -> pd.DataFrame:\n",
    "    cab = df[\"Cabin\"].fillna(\"Unknown/9999/U\").str.split(\"/\", expand=True)\n",
    "    cab.columns = [\"Deck\", \"CabinNum\", \"Side\"]\n",
    "    df = df.assign(Deck=cab[\"Deck\"], Side=cab[\"Side\"])\n",
    "    df[\"CabinNum\"] = pd.to_numeric(cab[\"CabinNum\"], errors=\"coerce\")\n",
    "    return df"
   ]
  },
  {
   "cell_type": "code",
   "execution_count": 8,
   "id": "16080eda",
   "metadata": {},
   "outputs": [],
   "source": [
    "def add_group_features(df: pd.DataFrame) -> pd.DataFrame:\n",
    "    # PassengerId like '0001_01' -> group '0001'\n",
    "    grp = df[\"PassengerId\"].astype(str).str.split(\"_\").str[0]\n",
    "    df = df.assign(Group=grp)\n",
    "    return df"
   ]
  },
  {
   "cell_type": "code",
   "execution_count": 9,
   "id": "336f3afe",
   "metadata": {},
   "outputs": [],
   "source": [
    "def engineer_spend(df: pd.DataFrame) -> pd.DataFrame:\n",
    "    for c in spend_cols:\n",
    "        df[c] = pd.to_numeric(df[c], errors=\"coerce\")\n",
    "    df[\"TotalSpend\"] = df[spend_cols].sum(axis=1, skipna=True)\n",
    "    # log1p versions - mitigates the right-skewness inherent in spending metrics\n",
    "    for c in spend_cols + [\"TotalSpend\"]:\n",
    "        df[f\"{c}_log1p\"] = np.log1p(df[c].fillna(0))\n",
    "    return df"
   ]
  },
  {
   "cell_type": "code",
   "execution_count": 10,
   "id": "a86d1845",
   "metadata": {},
   "outputs": [],
   "source": [
    "def add_missing_flags(df: pd.DataFrame) -> pd.DataFrame:\n",
    "    cols_to_flag = [\n",
    "        \"HomePlanet\", \"CryoSleep\", \"Destination\", \"Age\", \"VIP\", \n",
    "        \"RoomService\", \"FoodCourt\", \"ShoppingMall\", \"Spa\", \"VRDeck\",\n",
    "        \"Name\", \"Deck\", \"Side\", \"CabinNum\"\n",
    "    ]\n",
    "    for c in cols_to_flag:\n",
    "        if c in df.columns:\n",
    "            df[f\"{c}_missing\"] = df[c].isna().astype(int)\n",
    "    return df"
   ]
  },
  {
   "cell_type": "code",
   "execution_count": 58,
   "id": "c8b6fa4b",
   "metadata": {},
   "outputs": [],
   "source": [
    "def basic_clean(df: pd.DataFrame) -> pd.DataFrame:\n",
    "    out = df.copy()\n",
    "    # booleans\n",
    "    for c in bool_cols:\n",
    "        if c in out.columns:\n",
    "            out[c] = out[c].astype(\"boolean\")\n",
    "    # target (train only)\n",
    "    if \"Transported\" in out.columns:\n",
    "        out[\"Transported\"] = out[\"Transported\"].astype(int)\n",
    "    # core transforms\n",
    "    out = split_cabin(out)\n",
    "    out = add_group_features(out)\n",
    "    out = engineer_spend(out)\n",
    "    out = add_missing_flags(out)\n",
    "    return out "
   ]
  },
  {
   "cell_type": "code",
   "execution_count": 67,
   "id": "91d4be90",
   "metadata": {},
   "outputs": [],
   "source": [
    "# build a single concatenated frame to ensure consistent mapping\n",
    "train = basic_clean(train_raw)\n",
    "test = basic_clean(test_raw)\n",
    "train[\"is_train\"] = 1\n",
    "test[\"is_train\"] = 0\n",
    "both = pd.concat([train, test], axis=0, ignore_index=True)"
   ]
  },
  {
   "cell_type": "code",
   "execution_count": 68,
   "id": "59170a36",
   "metadata": {},
   "outputs": [],
   "source": [
    "# GroupSize\n",
    "both[\"GroupSize\"] = both.groupby(\"Group\")[\"Group\"].transform(\"size\")"
   ]
  },
  {
   "cell_type": "code",
   "execution_count": 69,
   "id": "47c13346",
   "metadata": {},
   "outputs": [],
   "source": [
    "# For missing age data, use median age (on training data only to avoid leakage)\n",
    "age_median = both.loc[both[\"is_train\"]==1, \"Age\"].median()\n",
    "both[\"Age\"] = both[\"Age\"].fillna(age_median)"
   ]
  },
  {
   "cell_type": "code",
   "execution_count": 70,
   "id": "47afb27b",
   "metadata": {},
   "outputs": [],
   "source": [
    "# Spending: fill NA with zeroes\n",
    "for c in spend_cols:\n",
    "    both[c] = both[c].fillna(0.0)\n",
    "both[\"TotalSpend\"] = both[spend_cols].sum(axis=1)"
   ]
  },
  {
   "cell_type": "code",
   "execution_count": 71,
   "id": "80215434",
   "metadata": {},
   "outputs": [],
   "source": [
    "# Categorial columns: fill NA with \"Unknown\"\n",
    "for c in cat_cols_base + [\"Deck\", \"Side\"]:\n",
    "    both[c] = both[c].fillna(\"Unknown\").astype(\"category\")"
   ]
  },
  {
   "cell_type": "code",
   "execution_count": 74,
   "id": "1ce231a4",
   "metadata": {},
   "outputs": [],
   "source": [
    "# A convenience numeric\n",
    "both[\"CabinNum\"] = both[\"CabinNum\"].fillna(both.loc[both[\"is_train\"]==1, \"CabinNum\"].median())"
   ]
  },
  {
   "cell_type": "code",
   "execution_count": null,
   "id": "727f6604",
   "metadata": {},
   "outputs": [],
   "source": [
    "# Define feature sets for naive, basic and enhanced feature spaces\n",
    "\n",
    "# Minimal columns for naive\n",
    "naive_nums = [\"Age\"] + spend_cols\n",
    "naive_bools = bool_cols\n",
    "naive_cats = cat_cols_base\n",
    "\n",
    "# Basic feature space: add cabin split, total spend and missing flags\n",
    "basic_nums = naive_nums + [\"TotalSpend\"]\n",
    "basic_bools = naive_bools\n",
    "basic_cats = naive_cats + [\"Deck\", \"Side\"]\n",
    "basic_extras = [\"Age_missing\"] + [f\"{c}_missing\" for c in spend_cols]\n",
    "\n",
    "# Enhanced: add group features, logs, ratios and CabinNum\n"
   ]
  }
 ],
 "metadata": {
  "kernelspec": {
   "display_name": "venv",
   "language": "python",
   "name": "python3"
  },
  "language_info": {
   "codemirror_mode": {
    "name": "ipython",
    "version": 3
   },
   "file_extension": ".py",
   "mimetype": "text/x-python",
   "name": "python",
   "nbconvert_exporter": "python",
   "pygments_lexer": "ipython3",
   "version": "3.12.2"
  }
 },
 "nbformat": 4,
 "nbformat_minor": 5
}
